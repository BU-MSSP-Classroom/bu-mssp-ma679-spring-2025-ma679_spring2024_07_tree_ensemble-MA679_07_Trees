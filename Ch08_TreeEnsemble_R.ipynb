{
 "cells": [
  {
   "cell_type": "code",
   "execution_count": null,
   "id": "67db9cc7",
   "metadata": {
    "Rmd_chunk_options": "setup, include=FALSE",
    "jupyter": {
     "output_hidden": true
    },
    "kernel": "R",
    "tags": [
     "scratch"
    ]
   },
   "outputs": [],
   "source": [
    "knitr::opts_chunk$set(echo = TRUE,message=FALSE,fig.align=\"center\",fig.width=7,fig.height=2.5)\n",
    "pacman::p_load(\n",
    "       car\n",
    "      , gbm\n",
    "      , ggplot2\n",
    "      , ggExtra\n",
    "      , reshape2\n",
    "      , corrplot\n",
    "      , RColorBrewer\n",
    "      , lubridate\n",
    "      , AmesHousing\n",
    "      , caretEnsemble\n",
    "      , rpart\n",
    "      , partykit\n",
    "      , pROC\n",
    "      , caret\n",
    "      , xgboost\n",
    "      )"
   ]
  },
  {
   "cell_type": "code",
   "execution_count": null,
   "id": "37baf83d",
   "metadata": {
    "Rmd_chunk_options": "echo=FALSE",
    "jupyter": {
     "output_hidden": false
    },
    "kernel": "R",
    "tags": [
     "report_output"
    ]
   },
   "outputs": [],
   "source": [
    "# Global parameter\n",
    "show_code <- TRUE"
   ]
  },
  {
   "cell_type": "markdown",
   "id": "3554b1ad",
   "metadata": {},
   "source": [
    "# Class Workbook {.tabset .tabset-fade .tabset-pills}"
   ]
  },
  {
   "cell_type": "markdown",
   "id": "837153a1",
   "metadata": {},
   "source": [
    "## In class activity"
   ]
  },
  {
   "cell_type": "markdown",
   "id": "64e8ba17",
   "metadata": {},
   "source": [
    "### Bank Credit Data\n",
    "\n",
    "Please take a look at the following credit scoring data set. This data was used to predict defaults on consumer loans. The data contains  1000 rows and 21 variables:"
   ]
  },
  {
   "cell_type": "code",
   "execution_count": null,
   "id": "6a0b6691",
   "metadata": {
    "kernel": "R",
    "tags": [
     "report_cell"
    ]
   },
   "outputs": [],
   "source": [
    "credit_data <- read.csv(\"credit_data.csv\")"
   ]
  },
  {
   "cell_type": "markdown",
   "id": "5a53e87b",
   "metadata": {},
   "source": [
    "Here are the variables.\n",
    "\n",
    "- BAD: factor, GOOD/BAD for whether a customer has defaulted on a loan. This is the outcome or target in this dataset\n",
    "- Account_status: factor, status of existing checking account\n",
    "- Duration: numeric, loan duration in month\n",
    "- Credit_history: factor, previous credit history\n",
    "- Purpose: factor, loan purpose\n",
    "- Amount: numeric, credit amount\n",
    "- Savings: factor, savings account/bonds\n",
    "- Employment: factor, present employment since\n",
    "- Installment_rate: numeric, installment rate in percentage of disposable income\n",
    "- Guarantors: factor, other debtors / guarantors\n",
    "- Resident_since: factor, present residence since\n",
    "- Property: factor, property\n",
    "- Age: numeric, age in years\n",
    "- Other_plans: factor, other installment plans (bank ,none, stores )\n",
    "- Housing: factor, housing\n",
    "- Num_credits: numeric, Number of existing credits at this bank\n",
    "- Job: factor, job( management / self-employed / highly qualified employee / officer; skilled employee / official ; unemployed / unskilled - non-resident ; unskilled - resident )\n",
    "- People_maintenance: numeric, number of people being liable to provide maintenance for\n",
    "- Phone: factor, telephone (none ; yes, registered under the customers name )\n",
    "- Foreign: factor, foreign worker ( no ; yes )\n",
    "- Female: factor, female/male for gender\n",
    "\n",
    "Create a predictive model that predicts the outcome `BAD`."
   ]
  },
  {
   "cell_type": "code",
   "execution_count": null,
   "id": "23577df4",
   "metadata": {
    "kernel": "R",
    "tags": [
     "report_cell"
    ]
   },
   "outputs": [],
   "source": [
    "set.seed(77)\n",
    "val_percent <- 0.3\n",
    "val_idx     <- sample(1:nrow(credit_data))[1:round(nrow(credit_data) * val_percent)]\n",
    "# partition the data\n",
    "credit_data_train <- credit_data[-val_idx, ]\n",
    "credit_data_valid <- credit_data[ val_idx, ]"
   ]
  },
  {
   "cell_type": "markdown",
   "id": "4a47c8a7",
   "metadata": {},
   "source": [
    "Evaluate your model performance.  What criteria do you think will be appropriate."
   ]
  },
  {
   "cell_type": "code",
   "execution_count": null,
   "id": "27495e38",
   "metadata": {
    "kernel": "R",
    "tags": [
     "report_cell"
    ]
   },
   "outputs": [],
   "source": [
    "#\n",
    "#"
   ]
  },
  {
   "cell_type": "markdown",
   "id": "4ca7a999",
   "metadata": {},
   "source": [
    "Comment of the result:\n",
    "\n",
    "~~~\n",
    "Please write your answer in full sentences.\n",
    "\n",
    "\n",
    "~~~"
   ]
  },
  {
   "cell_type": "markdown",
   "id": "3780aa48",
   "metadata": {},
   "source": [
    "### Ames Housing data\n",
    "\n",
    "Please take a look at the Ames Housing data."
   ]
  },
  {
   "cell_type": "code",
   "execution_count": null,
   "id": "08c672a6",
   "metadata": {
    "kernel": "R",
    "tags": [
     "report_cell"
    ]
   },
   "outputs": [],
   "source": [
    "library(AmesHousing)\n",
    "?ames_raw"
   ]
  },
  {
   "cell_type": "markdown",
   "id": "110505e8",
   "metadata": {},
   "source": [
    "Use data of `ames_raw` up to 2008 predict the housing price for the later years."
   ]
  },
  {
   "cell_type": "code",
   "execution_count": null,
   "id": "4420bc3f",
   "metadata": {
    "Rmd_chunk_options": "echo=show_code",
    "kernel": "R",
    "tags": [
     "report_cell"
    ]
   },
   "outputs": [],
   "source": [
    "# Do feature engineering if needed.\n",
    "ames_raw_2008=ames_raw[ames_raw$`Yr Sold`<2008,]\n",
    "ames_raw_2009=ames_raw[ames_raw$`Yr Sold`>=2008,]"
   ]
  },
  {
   "cell_type": "markdown",
   "id": "2d12a6a2",
   "metadata": {},
   "source": [
    "Use the same loss function calculator."
   ]
  },
  {
   "cell_type": "code",
   "execution_count": null,
   "id": "d8b37741",
   "metadata": {
    "Rmd_chunk_options": "echo=show_code",
    "kernel": "R",
    "tags": [
     "report_cell"
    ]
   },
   "outputs": [],
   "source": [
    "calc_loss<-function(prediction,actual){\n",
    "  difpred <- actual-prediction\n",
    "  RMSE <-sqrt(mean(difpred^2))\n",
    "  operation_loss<-abs(sum(difpred[difpred<0]))+sum(0.1*actual[difpred>0])\n",
    "  return(\n",
    "    list(RMSE,operation_loss\n",
    "         )\n",
    "  )\n",
    "}"
   ]
  },
  {
   "cell_type": "markdown",
   "id": "980c03ac",
   "metadata": {},
   "source": [
    "Apply CART and try to interpret the result that you get.  Be sure to fit the models on a training set and evaluate their performance on a test set.  Does it have a good prediction accuracy?"
   ]
  },
  {
   "cell_type": "code",
   "execution_count": null,
   "id": "a707fa4a",
   "metadata": {
    "kernel": "R",
    "tags": [
     "report_cell"
    ]
   },
   "outputs": [],
   "source": [
    "#\n",
    "#"
   ]
  },
  {
   "cell_type": "markdown",
   "id": "2fc561c6",
   "metadata": {},
   "source": [
    "Comment of the result:\n",
    "\n",
    "~~~\n",
    "Please write your answer in full sentences.\n",
    "\n",
    "\n",
    "~~~\n",
    "\n",
    "Apply boosting, bagging, random forests, and BART to the Ames Housing data set. Be sure to fit the models on a training set and evaluate their performance on a test set. How accurate are the results compared to simple linear regression methods? Which of these approaches yields the best performance?"
   ]
  },
  {
   "cell_type": "code",
   "execution_count": null,
   "id": "30669ed3",
   "metadata": {
    "kernel": "R",
    "tags": [
     "report_cell"
    ]
   },
   "outputs": [],
   "source": [
    "#\n",
    "#"
   ]
  },
  {
   "cell_type": "markdown",
   "id": "439dbfd4",
   "metadata": {},
   "source": [
    "Comment of the result:\n",
    "\n",
    "~~~\n",
    "Please write your answer in full sentences.\n",
    "\n",
    "\n",
    "~~~"
   ]
  },
  {
   "cell_type": "markdown",
   "id": "eb0a6c58",
   "metadata": {},
   "source": [
    "## Problem Set"
   ]
  },
  {
   "cell_type": "markdown",
   "id": "744e88db",
   "metadata": {},
   "source": [
    "### Boston\n",
    "\n",
    "\n",
    "In the lab, we applied random forests to the Boston data using `mtry = 6`,  `ntree = 25`, and `ntree = 500`. Create a plot displaying the test error resulting from random forests on this data set for a more comprehensive range of values for `mtry` and `ntree`. You can model your plot after Figure 8.10. Describe the results obtained."
   ]
  },
  {
   "cell_type": "code",
   "execution_count": null,
   "id": "f882030c",
   "metadata": {
    "kernel": "R",
    "tags": [
     "report_cell"
    ]
   },
   "outputs": [],
   "source": [
    "data(Boston,package = \"ISLR2\")"
   ]
  },
  {
   "cell_type": "markdown",
   "id": "6be0b7e3",
   "metadata": {},
   "source": [
    "###\n",
    "\n",
    "In the lab, a classification tree was applied to the Carseats data set after converting Sales into a qualitative response variable. Now we will seek to predict Sales using regression trees and related approaches, treating the response as a quantitative variable."
   ]
  },
  {
   "cell_type": "code",
   "execution_count": null,
   "id": "3dde0038",
   "metadata": {
    "kernel": "R",
    "tags": [
     "report_cell"
    ]
   },
   "outputs": [],
   "source": [
    "data(Carseats,package = \"ISLR2\")"
   ]
  },
  {
   "cell_type": "markdown",
   "id": "89767944",
   "metadata": {},
   "source": [
    "(a) Split the data set into a training set and a test set."
   ]
  },
  {
   "cell_type": "code",
   "execution_count": null,
   "id": "65df4db3",
   "metadata": {
    "kernel": "R",
    "tags": [
     "report_cell"
    ]
   },
   "outputs": [],
   "source": []
  },
  {
   "cell_type": "markdown",
   "id": "261ff212",
   "metadata": {},
   "source": [
    "(b) Fit a regression tree to the training set. Plot the tree, and interpret the results. What test MSE do you obtain?"
   ]
  },
  {
   "cell_type": "code",
   "execution_count": null,
   "id": "b8ea4757",
   "metadata": {
    "kernel": "R",
    "tags": [
     "report_cell"
    ]
   },
   "outputs": [],
   "source": []
  },
  {
   "cell_type": "markdown",
   "id": "f5de834b",
   "metadata": {},
   "source": [
    "(c) Use cross-validation in order to determine the optimal level of tree complexity. Does pruning the tree improve the test MSE?"
   ]
  },
  {
   "cell_type": "code",
   "execution_count": null,
   "id": "0e2dda42",
   "metadata": {
    "kernel": "R",
    "tags": [
     "report_cell"
    ]
   },
   "outputs": [],
   "source": []
  },
  {
   "cell_type": "markdown",
   "id": "62ed8d62",
   "metadata": {},
   "source": [
    "(d) Use the bagging approach in order to analyze this data. What test MSE do you obtain? Use the importance() function to determine which variables are most important."
   ]
  },
  {
   "cell_type": "code",
   "execution_count": null,
   "id": "89e09cf2",
   "metadata": {
    "kernel": "R",
    "tags": [
     "report_cell"
    ]
   },
   "outputs": [],
   "source": []
  },
  {
   "cell_type": "markdown",
   "id": "b139312a",
   "metadata": {},
   "source": [
    "(e) Use random forests to analyze this data. What test MSE do you obtain? Use the importance() function to determine which variables are most important. Describe the effect of m, the number of variables considered at each split, on the error rate obtained."
   ]
  },
  {
   "cell_type": "code",
   "execution_count": null,
   "id": "7dde03b3",
   "metadata": {
    "kernel": "R",
    "tags": [
     "report_cell"
    ]
   },
   "outputs": [],
   "source": []
  },
  {
   "cell_type": "markdown",
   "id": "20472a77",
   "metadata": {},
   "source": [
    "(f) Now analyze the data using BART, and report your results."
   ]
  },
  {
   "cell_type": "code",
   "execution_count": null,
   "id": "1332a549",
   "metadata": {
    "kernel": "R",
    "tags": [
     "report_cell"
    ]
   },
   "outputs": [],
   "source": []
  },
  {
   "cell_type": "markdown",
   "id": "01aee737",
   "metadata": {},
   "source": [
    "### OJ\n",
    "\n",
    "This problem involves the OJ data set which is part of the ISLR2 package."
   ]
  },
  {
   "cell_type": "code",
   "execution_count": null,
   "id": "dc4f31c2",
   "metadata": {
    "kernel": "R",
    "tags": [
     "report_cell"
    ]
   },
   "outputs": [],
   "source": [
    "data(OJ,package = \"ISLR2\")"
   ]
  },
  {
   "cell_type": "markdown",
   "id": "563b16ba",
   "metadata": {},
   "source": [
    "(a) Create a training set containing a random sample of 800 observations, and a test set containing the remaining observations.\n",
    "\n",
    "Your code:"
   ]
  },
  {
   "cell_type": "code",
   "execution_count": null,
   "id": "d55a9022",
   "metadata": {
    "Rmd_chunk_options": "echo=TRUE",
    "kernel": "R",
    "tags": [
     "report_cell"
    ]
   },
   "outputs": [],
   "source": [
    "#\n",
    "#"
   ]
  },
  {
   "cell_type": "markdown",
   "id": "933eb960",
   "metadata": {},
   "source": [
    "Your answer:\n",
    "\n",
    "~~~\n",
    "Please write your answer in full sentences.\n",
    "\n",
    "\n",
    "~~~\n",
    "\n",
    "(b) Fit a tree to the training data, with Purchase as the response and the other variables as predictors. Use the summary() function to produce summary statistics about the tree, and describe the results obtained. What is the training error rate? How many terminal nodes does the tree have?\n",
    "\n",
    "Your code:"
   ]
  },
  {
   "cell_type": "code",
   "execution_count": null,
   "id": "9b5f4eb4",
   "metadata": {
    "Rmd_chunk_options": "echo=TRUE",
    "kernel": "R",
    "tags": [
     "report_cell"
    ]
   },
   "outputs": [],
   "source": [
    "#\n",
    "#"
   ]
  },
  {
   "cell_type": "markdown",
   "id": "a79a28ac",
   "metadata": {},
   "source": [
    "Your answer:\n",
    "\n",
    "~~~\n",
    "Please write your answer in full sentences.\n",
    "\n",
    "\n",
    "~~~\n",
    "\n",
    "(c) Type in the name of the tree object in order to get a detailed text output. Pick one of the terminal nodes, and interpret the information displayed.\n",
    "\n",
    "Your code:"
   ]
  },
  {
   "cell_type": "code",
   "execution_count": null,
   "id": "daae76c0",
   "metadata": {
    "Rmd_chunk_options": "echo=TRUE",
    "kernel": "R",
    "tags": [
     "report_cell"
    ]
   },
   "outputs": [],
   "source": [
    "#\n",
    "#"
   ]
  },
  {
   "cell_type": "markdown",
   "id": "aac064ee",
   "metadata": {},
   "source": [
    "Your answer:\n",
    "\n",
    "~~~\n",
    "Please write your answer in full sentences.\n",
    "\n",
    "\n",
    "~~~\n",
    "\n",
    "(d) Create a plot of the tree, and interpret the results."
   ]
  },
  {
   "cell_type": "code",
   "execution_count": null,
   "id": "349ded82",
   "metadata": {
    "kernel": "R",
    "tags": [
     "report_cell"
    ]
   },
   "outputs": [],
   "source": []
  },
  {
   "cell_type": "markdown",
   "id": "a9c0e627",
   "metadata": {},
   "source": [
    "(e) Predict the response on the test data, and produce a confusion matrix comparing the test labels to the predicted test labels. What is the test error rate?\n",
    "\n",
    "Your code:"
   ]
  },
  {
   "cell_type": "code",
   "execution_count": null,
   "id": "b2488d86",
   "metadata": {
    "Rmd_chunk_options": "echo=TRUE",
    "kernel": "R",
    "tags": [
     "report_cell"
    ]
   },
   "outputs": [],
   "source": [
    "#\n",
    "#"
   ]
  },
  {
   "cell_type": "markdown",
   "id": "dfcd5f6e",
   "metadata": {},
   "source": [
    "Your answer:\n",
    "\n",
    "~~~\n",
    "Please write your answer in full sentences.\n",
    "\n",
    "\n",
    "~~~\n",
    "\n",
    "(f) Apply the `cv.tree()` function to the training set in order to determine the optimal tree size.\n",
    "\n",
    "Your code:"
   ]
  },
  {
   "cell_type": "code",
   "execution_count": null,
   "id": "39ad7aa6",
   "metadata": {
    "Rmd_chunk_options": "echo=TRUE",
    "kernel": "R",
    "tags": [
     "report_cell"
    ]
   },
   "outputs": [],
   "source": [
    "#\n",
    "#"
   ]
  },
  {
   "cell_type": "markdown",
   "id": "a77850c2",
   "metadata": {},
   "source": [
    "Your answer:\n",
    "\n",
    "~~~\n",
    "Please write your answer in full sentences.\n",
    "\n",
    "\n",
    "~~~\n",
    "\n",
    "(g) Produce a plot with tree size on the x-axis and cross-validated classification error rate on the y-axis.\n",
    "\n",
    "Your code:"
   ]
  },
  {
   "cell_type": "code",
   "execution_count": null,
   "id": "d5a41a75",
   "metadata": {
    "Rmd_chunk_options": "echo=TRUE",
    "kernel": "R",
    "tags": [
     "report_cell"
    ]
   },
   "outputs": [],
   "source": [
    "#\n",
    "#"
   ]
  },
  {
   "cell_type": "markdown",
   "id": "cd6b7f0b",
   "metadata": {},
   "source": [
    "Your answer:\n",
    "\n",
    "~~~\n",
    "Please write your answer in full sentences.\n",
    "\n",
    "\n",
    "~~~\n",
    "\n",
    "(h) Which tree size corresponds to the lowest cross-validated classification error rate?\n",
    "\n",
    "Your code:"
   ]
  },
  {
   "cell_type": "code",
   "execution_count": null,
   "id": "ac27218e",
   "metadata": {
    "Rmd_chunk_options": "echo=TRUE",
    "kernel": "R",
    "tags": [
     "report_cell"
    ]
   },
   "outputs": [],
   "source": [
    "#\n",
    "#"
   ]
  },
  {
   "cell_type": "markdown",
   "id": "9046c857",
   "metadata": {},
   "source": [
    "Your answer:\n",
    "\n",
    "~~~\n",
    "Please write your answer in full sentences.\n",
    "\n",
    "\n",
    "~~~\n",
    "\n",
    "(i) Produce a pruned tree corresponding to the optimal tree size obtained using cross-validation. If cross-validation does not lead to selection of a pruned tree, then create a pruned tree with five terminal nodes.\n",
    "\n",
    "Your code:"
   ]
  },
  {
   "cell_type": "code",
   "execution_count": null,
   "id": "689b8ec9",
   "metadata": {
    "Rmd_chunk_options": "echo=TRUE",
    "kernel": "R",
    "tags": [
     "report_cell"
    ]
   },
   "outputs": [],
   "source": [
    "#\n",
    "#"
   ]
  },
  {
   "cell_type": "markdown",
   "id": "f25af880",
   "metadata": {},
   "source": [
    "Your answer:\n",
    "\n",
    "~~~\n",
    "Please write your answer in full sentences.\n",
    "\n",
    "\n",
    "~~~\n",
    "\n",
    "(j) Compare the training error rates between the pruned and unpruned trees. Which is higher?\n",
    "\n",
    "Your code:"
   ]
  },
  {
   "cell_type": "code",
   "execution_count": null,
   "id": "80ae2255",
   "metadata": {
    "Rmd_chunk_options": "echo=TRUE",
    "kernel": "R",
    "tags": [
     "report_cell"
    ]
   },
   "outputs": [],
   "source": [
    "#\n",
    "#"
   ]
  },
  {
   "cell_type": "markdown",
   "id": "8f4c1573",
   "metadata": {},
   "source": [
    "Your answer:\n",
    "\n",
    "~~~\n",
    "Please write your answer in full sentences.\n",
    "\n",
    "\n",
    "~~~\n",
    "\n",
    "\n",
    "(k) Compare the test error rates between the pruned and unpruned trees. Which is higher?\n",
    "\n",
    "Your code:"
   ]
  },
  {
   "cell_type": "code",
   "execution_count": null,
   "id": "efe5a957",
   "metadata": {
    "Rmd_chunk_options": "echo=TRUE",
    "kernel": "R",
    "tags": [
     "report_cell"
    ]
   },
   "outputs": [],
   "source": [
    "#\n",
    "#"
   ]
  },
  {
   "cell_type": "markdown",
   "id": "80baccaa",
   "metadata": {},
   "source": [
    "Your answer:\n",
    "\n",
    "~~~\n",
    "Please write your answer in full sentences.\n",
    "\n",
    "\n",
    "~~~"
   ]
  },
  {
   "cell_type": "markdown",
   "id": "74dc0a11",
   "metadata": {},
   "source": [
    "### Hitters\n",
    "\n",
    "We now use boosting to predict Salary in the Hitters data set."
   ]
  },
  {
   "cell_type": "code",
   "execution_count": null,
   "id": "b11d51a8",
   "metadata": {
    "kernel": "R",
    "tags": [
     "report_cell"
    ]
   },
   "outputs": [],
   "source": [
    "data(Hitters,package = \"ISLR2\")"
   ]
  },
  {
   "cell_type": "markdown",
   "id": "3b1b7a0c",
   "metadata": {},
   "source": [
    "(a) Remove the observations for whom the salary information is unknown, and then log-transform the salaries.\n",
    "\n",
    "Your code:"
   ]
  },
  {
   "cell_type": "code",
   "execution_count": null,
   "id": "1f00bd8b",
   "metadata": {
    "Rmd_chunk_options": "echo=TRUE",
    "kernel": "R",
    "tags": [
     "report_cell"
    ]
   },
   "outputs": [],
   "source": [
    "#\n",
    "#"
   ]
  },
  {
   "cell_type": "markdown",
   "id": "57a7e40f",
   "metadata": {},
   "source": [
    "Your answer:\n",
    "\n",
    "~~~\n",
    "Please write your answer in full sentences.\n",
    "\n",
    "\n",
    "~~~\n",
    "\n",
    "(b) Create a training set consisting of the first 200 observations, and a test set consisting of the remaining observations.\n",
    "\n",
    "Your code:"
   ]
  },
  {
   "cell_type": "code",
   "execution_count": null,
   "id": "7f677a47",
   "metadata": {
    "Rmd_chunk_options": "echo=TRUE",
    "kernel": "R",
    "tags": [
     "report_cell"
    ]
   },
   "outputs": [],
   "source": [
    "#\n",
    "#"
   ]
  },
  {
   "cell_type": "markdown",
   "id": "24ed8306",
   "metadata": {},
   "source": [
    "Your answer:\n",
    "\n",
    "~~~\n",
    "Please write your answer in full sentences.\n",
    "\n",
    "\n",
    "~~~\n",
    "\n",
    "(c) Perform boosting on the training set with 1,000 trees for a range of values of the shrinkage parameter λ. Produce a plot with different shrinkage values on the x-axis and the corresponding\n",
    "training set MSE on the y-axis.\n",
    "\n",
    "Your code:"
   ]
  },
  {
   "cell_type": "code",
   "execution_count": null,
   "id": "54a29206",
   "metadata": {
    "Rmd_chunk_options": "echo=TRUE",
    "kernel": "R",
    "tags": [
     "report_cell"
    ]
   },
   "outputs": [],
   "source": [
    "#\n",
    "#"
   ]
  },
  {
   "cell_type": "markdown",
   "id": "4875b547",
   "metadata": {},
   "source": [
    "Your answer:\n",
    "\n",
    "~~~\n",
    "Please write your answer in full sentences.\n",
    "\n",
    "\n",
    "~~~\n",
    "\n",
    "(d) Produce a plot with different shrinkage values on the x-axis and the corresponding test set MSE on the y-axis.\n",
    "\n",
    "Your code:"
   ]
  },
  {
   "cell_type": "code",
   "execution_count": null,
   "id": "5fc34190",
   "metadata": {
    "Rmd_chunk_options": "echo=TRUE",
    "kernel": "R",
    "tags": [
     "report_cell"
    ]
   },
   "outputs": [],
   "source": [
    "#\n",
    "#"
   ]
  },
  {
   "cell_type": "markdown",
   "id": "eb7a4154",
   "metadata": {},
   "source": [
    "Your answer:\n",
    "\n",
    "~~~\n",
    "Please write your answer in full sentences.\n",
    "\n",
    "\n",
    "~~~\n",
    "\n",
    "(e) Compare the test MSE of boosting to the test MSE that results from applying two of the regression approaches seen in Chapters 3 and 6.\n",
    "\n",
    "Your code:"
   ]
  },
  {
   "cell_type": "code",
   "execution_count": null,
   "id": "3ff2db47",
   "metadata": {
    "Rmd_chunk_options": "echo=TRUE",
    "kernel": "R",
    "tags": [
     "report_cell"
    ]
   },
   "outputs": [],
   "source": [
    "#\n",
    "#"
   ]
  },
  {
   "cell_type": "markdown",
   "id": "448dbd21",
   "metadata": {},
   "source": [
    "Your answer:\n",
    "\n",
    "~~~\n",
    "Please write your answer in full sentences.\n",
    "\n",
    "\n",
    "~~~\n",
    "\n",
    "(f) Which variables appear to be the most important predictors in the boosted model?\n",
    "\n",
    "Your code:"
   ]
  },
  {
   "cell_type": "code",
   "execution_count": null,
   "id": "a1d749c3",
   "metadata": {
    "Rmd_chunk_options": "echo=TRUE",
    "kernel": "R",
    "tags": [
     "report_cell"
    ]
   },
   "outputs": [],
   "source": [
    "#\n",
    "#"
   ]
  },
  {
   "cell_type": "markdown",
   "id": "0710b77a",
   "metadata": {},
   "source": [
    "Your answer:\n",
    "\n",
    "~~~\n",
    "Please write your answer in full sentences.\n",
    "\n",
    "\n",
    "~~~\n",
    "\n",
    "(g) Now apply bagging to the training set. What is the test set MSE for this approach?\n",
    "\n",
    "Your code:"
   ]
  },
  {
   "cell_type": "code",
   "execution_count": null,
   "id": "32cd8943",
   "metadata": {
    "Rmd_chunk_options": "echo=TRUE",
    "kernel": "R",
    "tags": [
     "report_cell"
    ]
   },
   "outputs": [],
   "source": [
    "#\n",
    "#"
   ]
  },
  {
   "cell_type": "markdown",
   "id": "185455b8",
   "metadata": {},
   "source": [
    "Your answer:\n",
    "\n",
    "~~~\n",
    "Please write your answer in full sentences.\n",
    "\n",
    "\n",
    "~~~"
   ]
  },
  {
   "cell_type": "markdown",
   "id": "85ee92f6",
   "metadata": {},
   "source": [
    "### Caravan\n",
    "\n",
    "This question uses the `Caravan` data set."
   ]
  },
  {
   "cell_type": "code",
   "execution_count": null,
   "id": "d3adacb5",
   "metadata": {
    "kernel": "R",
    "tags": [
     "report_cell"
    ]
   },
   "outputs": [],
   "source": [
    "data(Caravan,package = \"ISLR2\")"
   ]
  },
  {
   "cell_type": "markdown",
   "id": "3c84d1b4",
   "metadata": {},
   "source": [
    "(a) Create a training set consisting of the first 1,000 observations, and a test set consisting of the remaining observations.\n",
    "\n",
    "Your code:"
   ]
  },
  {
   "cell_type": "code",
   "execution_count": null,
   "id": "c776ef45",
   "metadata": {
    "Rmd_chunk_options": "echo=TRUE",
    "kernel": "R",
    "tags": [
     "report_cell"
    ]
   },
   "outputs": [],
   "source": [
    "#\n",
    "#"
   ]
  },
  {
   "cell_type": "markdown",
   "id": "87777c09",
   "metadata": {},
   "source": [
    "(b) Fit a boosting model to the training set with Purchase as the response and the other variables as predictors. Use 1,000 trees, and a shrinkage value of 0.01. Which predictors appear to be the most important?\n",
    "\n",
    "Your code:"
   ]
  },
  {
   "cell_type": "code",
   "execution_count": null,
   "id": "ff667b0e",
   "metadata": {
    "Rmd_chunk_options": "echo=TRUE",
    "kernel": "R",
    "tags": [
     "report_cell"
    ]
   },
   "outputs": [],
   "source": [
    "#\n",
    "#"
   ]
  },
  {
   "cell_type": "markdown",
   "id": "4ec40d19",
   "metadata": {},
   "source": [
    "Your answer:\n",
    "\n",
    "~~~\n",
    "Please write your answer in full sentences.\n",
    "\n",
    "\n",
    "~~~\n",
    "\n",
    "\n",
    "(c) Use the boosting model to predict the response on the test data. Predict that a person will make a purchase if the estimated probability of purchase is greater than 20 %. Form a confusion matrix. What fraction of the people predicted to make a purchase do in fact make one? How does this compare with the results obtained from applying KNN or logistic regression to this data set?\n",
    "\n",
    "Your code:"
   ]
  },
  {
   "cell_type": "code",
   "execution_count": null,
   "id": "5a7ce379",
   "metadata": {
    "Rmd_chunk_options": "echo=TRUE",
    "kernel": "R",
    "tags": [
     "report_cell"
    ]
   },
   "outputs": [],
   "source": [
    "#\n",
    "#"
   ]
  },
  {
   "cell_type": "markdown",
   "id": "12bbacbd",
   "metadata": {},
   "source": [
    "Your answer:\n",
    "\n",
    "~~~\n",
    "Please write your answer in full sentences.\n",
    "\n",
    "\n",
    "~~~"
   ]
  },
  {
   "cell_type": "markdown",
   "id": "801adb7d",
   "metadata": {},
   "source": [
    "## Additional Material"
   ]
  },
  {
   "cell_type": "markdown",
   "id": "fb091ec0",
   "metadata": {},
   "source": [
    "In this section we will look at other popular tree based methods that are readily available.\n",
    "For classification we will use the iris dataset."
   ]
  },
  {
   "cell_type": "code",
   "execution_count": null,
   "id": "908c54de",
   "metadata": {
    "Rmd_chunk_options": "fig.width=12,fig.height=10",
    "kernel": "R",
    "tags": [
     "report_cell"
    ]
   },
   "outputs": [],
   "source": [
    "trainIndex <- createDataPartition(iris$Species,p=.7,list=FALSE)\n",
    "trainData <- iris[trainIndex,]\n",
    "testData  <- iris[-trainIndex,]"
   ]
  },
  {
   "cell_type": "markdown",
   "id": "516337c6",
   "metadata": {},
   "source": [
    "### CART using rpart\n",
    "\n",
    "There are several implementation of CART but rpart is one of more popular one"
   ]
  },
  {
   "cell_type": "code",
   "execution_count": null,
   "id": "7f145643",
   "metadata": {
    "Rmd_chunk_options": "fig.width=12,fig.height=10",
    "kernel": "R",
    "tags": [
     "report_cell"
    ]
   },
   "outputs": [],
   "source": [
    "# Fit CART  Model\n",
    "library(rpart)\n",
    "rpart.fit <- rpart(Species ~ ., data=trainData,cp=0)\n",
    "rpart.fit\n",
    "plot(as.party(rpart.fit),main=\"rpart Model\")"
   ]
  },
  {
   "cell_type": "code",
   "execution_count": null,
   "id": "828a3e3a",
   "metadata": {
    "Rmd_chunk_options": "fig.width=8,fig.height=8",
    "kernel": "R",
    "tags": [
     "report_cell"
    ]
   },
   "outputs": [],
   "source": [
    "#Make predictions using the test data set\n",
    "rpart.pred <- predict(rpart.fit,newdata=testData,type=\"class\")\n",
    "#Draw the ROC curve\n",
    "rpart.ROC <- roc(predictor=as.numeric(rpart.pred),\n",
    "                 response=testData$Species)\n",
    "rpart.ROC$auc\n",
    "#Area under the curve: 0.8536\n",
    "plot(rpart.ROC)"
   ]
  },
  {
   "cell_type": "markdown",
   "id": "5c68bfee",
   "metadata": {},
   "source": [
    "### C-Tree\n",
    "\n",
    "Conditional inference trees (CTree) are a non-parametric class of regression trees embedding tree-structured regression models into conditional inference procedures.  It is implemented in the R package `partykit`.\n",
    "You can read more detail here.\n",
    "https://cran.r-project.org/web/packages/partykit/vignettes/ctree.pdf"
   ]
  },
  {
   "cell_type": "code",
   "execution_count": null,
   "id": "0fdc87b3",
   "metadata": {
    "Rmd_chunk_options": "fig.width=12,fig.height=10",
    "kernel": "R",
    "tags": [
     "report_cell"
    ]
   },
   "outputs": [],
   "source": [
    "library(partykit)\n",
    "set.seed(23)\n",
    "# Fit Conditional Tree Model\n",
    "ctree.fit <- partykit::ctree(Species ~ ., data=trainData)\n",
    "ctree.fit\n",
    "plot(ctree.fit,main=\"ctree Model\")"
   ]
  },
  {
   "cell_type": "code",
   "execution_count": null,
   "id": "5ce286ca",
   "metadata": {
    "Rmd_chunk_options": "fig.width=8,fig.height=8",
    "kernel": "R",
    "tags": [
     "report_cell"
    ]
   },
   "outputs": [],
   "source": [
    "#Make predictions using the test data set\n",
    "ctree.pred <- predict(ctree.fit,testData)\n",
    "#Draw the ROC curve\n",
    "ctree.ROC <- pROC::roc(predictor=as.numeric(ctree.pred),\n",
    "                 response=testData$Species)\n",
    "ctree.ROC$auc\n",
    "#Area under the curve: 0.8326\n",
    "plot(ctree.ROC,main=\"ctree ROC\")"
   ]
  },
  {
   "cell_type": "markdown",
   "id": "bab1703a",
   "metadata": {},
   "source": [
    "### C4.5\n",
    "\n",
    "C4.5 is similar to CART, and it had its moments.  C4.5 is different from CART since they use Shannon Entropy to pick features with the most significant information gain as nodes compared to CART, which uses Gini Impurity\n",
    "\n",
    "Depending on your operating system, RWeka might not work for you.\n",
    "And C4.5 is outdated.  You probably want to use C5.0, which is an improvement on C4.5. I could not make RWeka work on my mack."
   ]
  },
  {
   "cell_type": "code",
   "execution_count": null,
   "id": "1787372c",
   "metadata": {
    "Rmd_chunk_options": "eval=FALSE",
    "kernel": "R",
    "tags": [
     "report_cell"
    ]
   },
   "outputs": [],
   "source": [
    "# load the package\n",
    "#library(\"RWeka\")\n",
    "# fit model\n",
    "#fit4.5 <- J48(Species~., data=iris)\n",
    "# summarize the fit\n",
    "#summary(fit4.5)\n",
    "# make predictions\n",
    "#predictions <- predict(fit4.5, iris[,1:4])\n",
    "# summarize accuracy\n",
    "#table(predictions, iris$Species)"
   ]
  },
  {
   "cell_type": "markdown",
   "id": "aaad31bb",
   "metadata": {},
   "source": [
    "### C5.0\n",
    "\n",
    "C5.0 is an extension of C4.5.  It is said to be\n",
    "\n",
    "- faster than C4.5 (several orders of magnitude)\n",
    "- more memory efficient than C4.5\n",
    "- Smaller decision trees compared to C4.5\n",
    "- Can perform boosting to improve accuracy.\n",
    "- Weighting: allows you to weight different cases and misclassification types.\n",
    "- Winnowing: automatically winnows the attributes to remove those that may be unhelpful."
   ]
  },
  {
   "cell_type": "code",
   "execution_count": null,
   "id": "cf76376f",
   "metadata": {
    "kernel": "R",
    "tags": [
     "report_cell"
    ]
   },
   "outputs": [],
   "source": [
    "#http://machinelearningmastery.com/non-linear-classification-in-r-with-decision-trees/\n",
    "# load the package\n",
    "library(C50)\n",
    "# fit model\n",
    "fit1 <- C5.0(Species~., data=iris)\n",
    "# fit boosted model\n",
    "fitb <- C5.0(Species~., data=iris, trials=10)\n",
    "# summarize the fit\n",
    "print(fit1)\n",
    "# make predictions\n",
    "predictions1 <- predict(fit1, iris)"
   ]
  },
  {
   "cell_type": "markdown",
   "id": "8982123d",
   "metadata": {},
   "source": [
    "Summarizing the accuracy\n",
    "\n",
    "- Without boosting"
   ]
  },
  {
   "cell_type": "code",
   "execution_count": null,
   "id": "198a54c3",
   "metadata": {
    "kernel": "R",
    "tags": [
     "report_cell"
    ]
   },
   "outputs": [],
   "source": [
    "table(predictions1, iris$Species)"
   ]
  },
  {
   "cell_type": "markdown",
   "id": "6764daf2",
   "metadata": {},
   "source": [
    "- With boosting"
   ]
  },
  {
   "cell_type": "code",
   "execution_count": null,
   "id": "aaf0f500",
   "metadata": {
    "kernel": "R",
    "tags": [
     "report_cell"
    ]
   },
   "outputs": [],
   "source": [
    "table(predict(fitb, iris), iris$Species)"
   ]
  },
  {
   "cell_type": "markdown",
   "id": "3b6a3627",
   "metadata": {},
   "source": [
    "### BART\n",
    "\n",
    "BART is a Bayesian “sum-of-trees” model.\n",
    "For numeric response $y$, we have $y_i = f(x_i) + e_i$, where $e_i\\sim N(0,\\sigma^2)$.\n",
    "For a binary response $y$, $P(Y=1 | x) = F(f(x))$,\n",
    "where $F$ denotes the standard normal cdf (probit link).\n",
    "\n",
    "In both cases, $f$ is the sum of many tree models.\n",
    "The goal is to have flexible inference for the unknown function $f$.\n",
    "\n",
    "In the spirit of “ensemble models”, each tree is constrained by a prior distribution to be a weak learner so that it contributes a small amount to the overall fit."
   ]
  },
  {
   "cell_type": "code",
   "execution_count": null,
   "id": "185d5d85",
   "metadata": {
    "Rmd_chunk_options": "fig.width=8,fig.height=8",
    "kernel": "R",
    "tags": [
     "report_cell"
    ]
   },
   "outputs": [],
   "source": [
    "library(BayesTree)\n",
    "iris_sub<-iris[iris$Species %in% c(\"setosa\" ,\"versicolor\"),]\n",
    "iris_sub$Species<-droplevels(iris_sub$Species)\n",
    "iris_test_idx<- sample(1:nrow(iris_sub),80)\n",
    "iris_test_spec_01<-as.integer(iris_sub$Species[-iris_test_idx])-1\n",
    "bartFit = bart( x.train=iris_sub[iris_test_idx,-5],\n",
    "                y.train=iris_sub$Species[iris_test_idx],\n",
    "                x.test=iris_sub[-iris_test_idx,-5],\n",
    "                ndpost=200)\n",
    "\n",
    "table(1*(pnorm(apply(bartFit$yhat.test,2,mean))>0.5),iris_test_spec_01 )\n",
    "mean(1*(pnorm(apply(bartFit$yhat.test,2,mean))>0.5)!=iris_test_spec_01 )\n",
    "plot(bartFit) # plot bart fit\n",
    "# library(bartMachine)"
   ]
  },
  {
   "cell_type": "markdown",
   "id": "983f5a2b",
   "metadata": {},
   "source": [
    "### XGBoost\n",
    "\n",
    "XGBoost became popular due to its success in Kaggle competitions.  It's essentially a gradient boosting but implemented to perform better out of the box.  Some of the nice features include:\n",
    "\n",
    "- Default regularization\n",
    "- Tree growing and pruning scheme allows for multiple cuts\n",
    "- Computational efficiency by parallelization\n",
    "- A couple of default choices to make it easier to use\n",
    "- Handles missing data\n",
    "\n",
    "However, if you want to go deeper, there are some challenges/concerns.\n",
    "\n",
    "- Hyperparameter tuning is hard\n",
    "- Missing data imputation scheme is concerning\n",
    "- Cannot handle categorical variables\n",
    "\n",
    "Here is it used for the iris data."
   ]
  },
  {
   "cell_type": "code",
   "execution_count": null,
   "id": "5f9a0758",
   "metadata": {
    "kernel": "R",
    "tags": [
     "report_cell"
    ]
   },
   "outputs": [],
   "source": [
    "library( xgboost )\n",
    "xx     <- as.matrix( iris[,-5] )\n",
    "yy     <- as.integer( iris$Species )-1\n",
    "dtrain <- xgb.DMatrix( data = xx, label = yy )\n",
    "bst    <- xgboost( data      = dtrain,\n",
    "                   max_depth = 2,\n",
    "                   eta       = 1,\n",
    "                   nrounds   = 2,\n",
    "                   num_class = 3,\n",
    "                   nthread   = 2,\n",
    "                   verbose   = 2 )\n",
    "predict( bst, newdata=dtrain )"
   ]
  },
  {
   "cell_type": "markdown",
   "id": "3dce04e9",
   "metadata": {},
   "source": [
    "What gets unwieldy is when you start to tune the parameters.\n",
    "Here is the list of parameters used.  Not all of them need tuning, but I hope you understand.\n",
    "\n",
    "- General Parameters that define the overall functionality of XGBoost.\n",
    "  - booster [default=gbtree]: type of model\n",
    "  - silent [default=0]: display log?\n",
    "  - nthread [default to the maximum number of threads available if not set]: number of cores\n",
    "- Learning Task Parameters define the optimization objective and the metric to be calculated at each step.\n",
    "  - objective [default=reg:linear] the loss function to be minimized.\n",
    "  - eval_metric [ default according to objective ] The metric for validation data.\n",
    "  - seed [default=0] The random number seed.\n",
    "- Booster Parameters\n",
    "  - eta [default=0.3]. Analogous to the learning rate in GBM\n",
    "  - min_child_weight [default=1] is the minimum sum of weights of all observations required in a child.\n",
    "  - max_depth [default=6] The maximum depth of a tree, same as GBM.\n",
    "  - max_leaf_nodes  The maximum number of terminal nodes or leaves in a tree.\n",
    "  - gamma [default=0] is the minimum loss reduction required to make a split.\n",
    "  - max_delta_step [default=0]  If it is set to a positive value, it makes the update step more conservative.\n",
    "  - subsample [default=1] the fraction of observations randomly sampled for each tree.\n",
    "  - colsample_bytree [default=1] is the fraction of columns randomly sampled for each tree.\n",
    "  - colsample_bylevel [default=1] is the subsample ratio of columns for each split in each level.\n",
    "  - lambda [default=1]  L2 regularization term on weights (analogous to Ridge regression)\n",
    "  - alpha [default=0] L1 regularization term on weight (analogous to Lasso regression)\n",
    "  - scale_pos_weight [default=1] >0 for high-class imbalance as it helps in faster convergence.\n",
    "\n",
    "Because of this, there is an automatic version of xgboost that does the parameter tuning for you."
   ]
  },
  {
   "cell_type": "markdown",
   "id": "e9ca592b",
   "metadata": {},
   "source": [
    "### catboost\n",
    "\n",
    "Catboost is another popular boosting method that in my view popular due to well thought out implementation.\n",
    "The three features that distingishes itself from the other similar models are\n",
    "\n",
    "- Symmetric tree\n",
    "- Ordered Boosting\n",
    "- Categorical Feature Engineering\n",
    "\n",
    "\n",
    " https://catboost.ai/en/docs/concepts/r-usages-examples"
   ]
  },
  {
   "cell_type": "code",
   "execution_count": null,
   "id": "f3a00b2b",
   "metadata": {
    "Rmd_chunk_options": "eval=FALSE",
    "kernel": "R",
    "tags": [
     "report_cell"
    ]
   },
   "outputs": [],
   "source": [
    "#library(catboost)\n",
    "# load data\n",
    "#set.seed(1)\n",
    "#idx=sample(1:nrow(iris),nrow(iris)*.7)\n",
    "#train=iris[idx,]\n",
    "#test=iris[-idx,]\n",
    "#fit_control <- caret::trainControl(\n",
    "#  method = \"cv\",\n",
    "#  number = 3,\n",
    "#  search = \"random\",\n",
    "#  classProbs = TRUE\n",
    "#)\n",
    "## set grid options\n",
    "#grid <- expand.grid(\n",
    "#  depth = c(4, 6, 8),\n",
    "#  learning_rate = 0.1,\n",
    "#  l2_leaf_reg = 0.1,\n",
    "#  rsm = 0.95,\n",
    "#  border_count = 64,\n",
    "#  iterations = 10\n",
    "#)\n",
    "##model <- caret::train(\n",
    "#  x = train[,-5],\n",
    "#  y = train[,5],\n",
    "#  method = catboost.caret,\n",
    "#  metric = \"Accuracy\",\n",
    "#  maximize = TRUE,\n",
    "#  preProc = NULL,\n",
    "#  tuneGrid = grid,\n",
    "#  tuneLength = 30,\n",
    "#  trControl = fit_control\n",
    "#)\n",
    "#table(test$Species,predict(model,test))"
   ]
  },
  {
   "cell_type": "markdown",
   "id": "40a3d405",
   "metadata": {},
   "source": [
    "### Ensemble model\n",
    "\n",
    "Bagging, Random Forest, and Boosting are examples of ensemble models.\n",
    "The idea is to combine models to get a better result than any individual model can achieve.\n",
    "So far, we’ve combined the same models, but that need not be the case.\n",
    "One way to combine the results is to just average the outcomes from different models.\n",
    "However, one need not trust the results from all models equally.\n",
    "An alternative way is to use the predictions as input into a regression model to create weights representing the level of trust in the model.\n",
    "\n",
    "Stacking is easy to implement but even easier if you use Caret.\n",
    "For example, if you want to do 5 fold CV to fit random forest, gbm, linear regression and gam, then combine the results."
   ]
  },
  {
   "cell_type": "code",
   "execution_count": null,
   "id": "c200a336",
   "metadata": {
    "kernel": "R",
    "tags": [
     "report_cell"
    ]
   },
   "outputs": [],
   "source": [
    "data(Sonar,package = \"mlbench\")\n",
    "inTrain <- createDataPartition(y = Sonar$Class, p = .75, list = FALSE)\n",
    "training <- Sonar[inTrain, ]\n",
    "testing <- Sonar[-inTrain, ]\n",
    "my_control <- trainControl(\n",
    "  method=\"cv\",\n",
    "  number=25,\n",
    "  savePredictions=\"final\",\n",
    "  classProbs=TRUE,\n",
    "  index=createResample(training$Class, 25),\n",
    "  summaryFunction=twoClassSummary\n",
    ")"
   ]
  },
  {
   "cell_type": "code",
   "execution_count": null,
   "id": "733e7c1d",
   "metadata": {
    "kernel": "R",
    "tags": [
     "report_cell"
    ]
   },
   "outputs": [],
   "source": [
    "model_list <- caretList( Class ~ ., data=training,\n",
    "  \t\t\t     trControl=my_control,\n",
    "  \t\t\t       metric=\"ROC\",\n",
    "  \t\t\t     methodList=c(\"rf\",\"glm\",\"rpart\"))"
   ]
  },
  {
   "cell_type": "code",
   "execution_count": null,
   "id": "1c19e6f1",
   "metadata": {
    "kernel": "R",
    "tags": [
     "report_cell"
    ]
   },
   "outputs": [],
   "source": [
    "stacked.model <- caretStack( model_list, method=\"glm\")\n",
    "predict(stacked.model,testing)"
   ]
  }
 ],
 "metadata": {
  "Rmd_chunk_options": {
   "author": "Masanao Yajima",
   "date": "2023-01-05",
   "output": "html_document",
   "title": "Tree based Ensemble"
  },
  "kernelspec": {
   "display_name": "R",
   "language": "R",
   "name": "ir"
  },
  "language_info": {
   "codemirror_mode": "r",
   "file_extension": ".r",
   "mimetype": "text/x-r-source",
   "name": "R",
   "pygments_lexer": "r",
   "version": "4.3.2"
  },
  "sos": {
   "kernels": [
    [
     "SoS",
     "sos",
     "",
     ""
    ],
    [
     "R",
     "ir",
     "",
     ""
    ],
    [
     "css",
     "css",
     "",
     ""
    ]
   ]
  }
 },
 "nbformat": 4,
 "nbformat_minor": 5
}
